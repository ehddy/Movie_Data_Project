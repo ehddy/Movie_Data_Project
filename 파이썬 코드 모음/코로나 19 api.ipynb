{
 "cells": [
  {
   "cell_type": "code",
   "execution_count": 4,
   "id": "57313489",
   "metadata": {},
   "outputs": [],
   "source": [
    "import requests\n",
    "\n",
    "serviceKey = '7GRMBFtqXjvKY%2FctwLPOnFYQKe%2BLd50fIjkSxBfWMl8nrYB3bkyfjjj9B3Be3GwvolJVtVf9t%2BWMet9bewRegA%3D%3D'\n",
    "api_key_decode = requests.utils.unquote(serviceKey)\n"
   ]
  },
  {
   "cell_type": "code",
   "execution_count": null,
   "id": "a5a314c5",
   "metadata": {},
   "outputs": [],
   "source": [
    "data = pd.read"
   ]
  },
  {
   "cell_type": "code",
   "execution_count": 9,
   "id": "c76354be",
   "metadata": {},
   "outputs": [],
   "source": [
    "# 모듈 import\n",
    "from urllib.request import urlopen\n",
    "from urllib.parse import urlencode, unquote, quote_plus\n",
    "import urllib\n",
    "import requests\n",
    "import json\n",
    "from xml.etree.ElementTree import parse\n",
    "import xmltodict\n",
    "\n",
    "\n",
    "\n",
    "key='7GRMBFtqXjvKY%2FctwLPOnFYQKe%2BLd50fIjkSxBfWMl8nrYB3bkyfjjj9B3Be3GwvolJVtVf9t%2BWMet9bewRegA%3D%3D'\n",
    "key = requests.utils.unquote(key)\n",
    "url = f'http://openapi.data.go.kr/openapi/service/rest/Covid19/getCovid19InfStateJson?serviceKey={key}&'\n",
    "queryParams = urlencode({ quote_plus('pageNo') : 1, \n",
    "                          quote_plus('numOfRows') : 10,\n",
    "                          quote_plus('startCreateDt') : '20200101',\n",
    "                          quote_plus('endCreateDt') : '20201231'})\n",
    "url2 = url + queryParams\n",
    "response = urlopen(url2)\n",
    "results = response.read().decode(\"utf-8\")\n",
    "results_to_json = xmltodict.parse(results)\n",
    "data = json.loads(json.dumps(results_to_json))"
   ]
  },
  {
   "cell_type": "code",
   "execution_count": null,
   "id": "840eedff",
   "metadata": {},
   "outputs": [],
   "source": []
  }
 ],
 "metadata": {
  "kernelspec": {
   "display_name": "Python 3 (ipykernel)",
   "language": "python",
   "name": "python3"
  },
  "language_info": {
   "codemirror_mode": {
    "name": "ipython",
    "version": 3
   },
   "file_extension": ".py",
   "mimetype": "text/x-python",
   "name": "python",
   "nbconvert_exporter": "python",
   "pygments_lexer": "ipython3",
   "version": "3.9.7"
  }
 },
 "nbformat": 4,
 "nbformat_minor": 5
}
