{
 "cells": [
  {
   "cell_type": "code",
   "execution_count": 1,
   "id": "0fff4dbf",
   "metadata": {},
   "outputs": [],
   "source": [
    "from selenium import webdriver\n",
    "import time\n",
    "from bs4 import BeautifulSoup\n",
    "from selenium.webdriver.common.by import By\n",
    "import pandas as pd"
   ]
  },
  {
   "cell_type": "code",
   "execution_count": 2,
   "id": "a0422178",
   "metadata": {},
   "outputs": [
    {
     "name": "stderr",
     "output_type": "stream",
     "text": [
      "/var/folders/9t/s4kfwbj54wj1sw01v7vtb68h0000gn/T/ipykernel_8621/3980472302.py:1: DeprecationWarning: executable_path has been deprecated, please pass in a Service object\n",
      "  driver = webdriver.Chrome('/Users/kanovatio/Crawling/chromedriver')\n"
     ]
    }
   ],
   "source": [
    "driver = webdriver.Chrome('/Users/kanovatio/Crawling/chromedriver')\n",
    "driver.implicitly_wait(2)"
   ]
  },
  {
   "cell_type": "code",
   "execution_count": 3,
   "id": "1bc80129",
   "metadata": {},
   "outputs": [],
   "source": [
    "driver.get(\"https://movie.naver.com/\")\n",
    "time.sleep(1)"
   ]
  },
  {
   "cell_type": "code",
   "execution_count": 6,
   "id": "b1533988",
   "metadata": {},
   "outputs": [
    {
     "name": "stdout",
     "output_type": "stream",
     "text": [
      "영화제목은 무엇입니까? : 탑건:매버릭\n"
     ]
    }
   ],
   "source": [
    "# 최초 페이지에서 영화 제목 입력해주는 코드\n",
    "\n",
    "query_txt = input('영화제목은 무엇입니까? : ')\n",
    "\n",
    "element = driver.find_element(By.CSS_SELECTOR,'#ipt_tx_srch')\n",
    "element.send_keys(query_txt)  # 검색어 입력\n",
    "element.send_keys(\"\\n\")  # 키보드 엔터 버튼\n",
    "\n",
    "driver.find_element(By.XPATH,'//*[@id=\"old_content\"]/ul[2]/li[1]/p').click() # 검색 버튼 클릭"
   ]
  },
  {
   "cell_type": "code",
   "execution_count": 7,
   "id": "58e77109",
   "metadata": {},
   "outputs": [],
   "source": [
    "score_list = driver.find_elements(By.XPATH, '//*[@id=\"content\"]/div[1]/div[2]/div[1]')\n",
    "\n",
    "movie_name_list=[]\n",
    "movie_name = driver.find_element(By.XPATH, '//*[@id=\"content\"]/div[1]/div[2]/div[1]/h3/a[1]').text\n",
    "\n",
    "for score in score_list : \n",
    "    \n",
    "    Ascore_list = []\n",
    "    Jscore_list = []\n",
    "    Nscore_list = []\n",
    "    \n",
    "    \n",
    "    \n",
    "    audience_score_10 = score.find_element(By.XPATH,'//*[@id=\"actualPointPersentBasic\"]/div/em[1]').text\n",
    "    audience_score_1 = score.find_element(By.XPATH,'//*[@id=\"actualPointPersentBasic\"]/div/em[3]').text\n",
    "    audience_score_0 = score.find_element(By.XPATH,'//*[@id=\"actualPointPersentBasic\"]/div/em[4]').text\n",
    "\n",
    "    journalist_score_10 = score.find_element(By.XPATH,'//*[@id=\"content\"]/div[1]/div[2]/div[1]/div[1]/div[2]/div/a/div/em[1]').text\n",
    "    journalist_score_1 = score.find_element(By.XPATH,'//*[@id=\"content\"]/div[1]/div[2]/div[1]/div[1]/div[2]/div/a/div/em[3]').text\n",
    "    journalist_score_0 = score.find_element(By.XPATH,'//*[@id=\"content\"]/div[1]/div[2]/div[1]/div[1]/div[2]/div/a/div/em[4]').text\n",
    "\n",
    "    netizen_score_10 = score.find_element(By.XPATH,'//*[@id=\"pointNetizenPersentBasic\"]/em[1]').text\n",
    "    netizen_score_1 = score.find_element(By.XPATH,'//*[@id=\"pointNetizenPersentBasic\"]/em[3]').text\n",
    "    netizen_score_0 = score.find_element(By.XPATH,'//*[@id=\"pointNetizenPersentBasic\"]/em[4]').text\n",
    "\n",
    "    Ascore_list.append([audience_score_10, '.',audience_score_1, audience_score_0])\n",
    "    Jscore_list.append([journalist_score_10,'.', journalist_score_1, journalist_score_0])\n",
    "    Nscore_list.append([netizen_score_10,'.', netizen_score_1, netizen_score_0])"
   ]
  },
  {
   "cell_type": "code",
   "execution_count": 8,
   "id": "2848a856",
   "metadata": {},
   "outputs": [
    {
     "data": {
      "text/plain": [
       "'탑건: 매버릭'"
      ]
     },
     "execution_count": 8,
     "metadata": {},
     "output_type": "execute_result"
    }
   ],
   "source": [
    "movie_name"
   ]
  },
  {
   "cell_type": "code",
   "execution_count": 9,
   "id": "cba5241d",
   "metadata": {
    "scrolled": false
   },
   "outputs": [
    {
     "data": {
      "text/plain": [
       "[['8', '.', '4', '4']]"
      ]
     },
     "execution_count": 9,
     "metadata": {},
     "output_type": "execute_result"
    }
   ],
   "source": [
    "Jscore_list"
   ]
  },
  {
   "cell_type": "code",
   "execution_count": 10,
   "id": "8e98b784",
   "metadata": {
    "scrolled": false
   },
   "outputs": [
    {
     "data": {
      "text/html": [
       "<div>\n",
       "<style scoped>\n",
       "    .dataframe tbody tr th:only-of-type {\n",
       "        vertical-align: middle;\n",
       "    }\n",
       "\n",
       "    .dataframe tbody tr th {\n",
       "        vertical-align: top;\n",
       "    }\n",
       "\n",
       "    .dataframe thead th {\n",
       "        text-align: right;\n",
       "    }\n",
       "</style>\n",
       "<table border=\"1\" class=\"dataframe\">\n",
       "  <thead>\n",
       "    <tr style=\"text-align: right;\">\n",
       "      <th></th>\n",
       "      <th>영화명</th>\n",
       "      <th>관람객 평점</th>\n",
       "      <th>기자/평론가 평점</th>\n",
       "      <th>네티즌 평점</th>\n",
       "    </tr>\n",
       "  </thead>\n",
       "  <tbody>\n",
       "    <tr>\n",
       "      <th>0</th>\n",
       "      <td>탑건: 매버릭</td>\n",
       "      <td>9.60</td>\n",
       "      <td>8.44</td>\n",
       "      <td>9.76</td>\n",
       "    </tr>\n",
       "  </tbody>\n",
       "</table>\n",
       "</div>"
      ],
      "text/plain": [
       "       영화명 관람객 평점 기자/평론가 평점 네티즌 평점\n",
       "0  탑건: 매버릭   9.60      8.44   9.76"
      ]
     },
     "execution_count": 10,
     "metadata": {},
     "output_type": "execute_result"
    }
   ],
   "source": [
    "Ascore = pd.DataFrame(data = Ascore_list, columns=['10의 자리','.','1의 자리', '소수점'])\n",
    "Ascore['관람객 평점'] = Ascore['10의 자리'] + Ascore['.'] + Ascore['1의 자리'] + Ascore['소수점']\n",
    "del Ascore['10의 자리']\n",
    "del Ascore['1의 자리']\n",
    "del Ascore['.']\n",
    "del Ascore['소수점']\n",
    "Ascore['영화명'] = movie_name\n",
    "\n",
    "Jscore = pd.DataFrame(data = Jscore_list, columns=['10의 자리','.','1의 자리', '소수점'])\n",
    "Jscore['기자/평론가 평점'] = Jscore['10의 자리'] + Jscore['.'] + Jscore['1의 자리'] + Jscore['소수점']\n",
    "del Jscore['10의 자리']\n",
    "del Jscore['1의 자리']\n",
    "del Jscore['.']\n",
    "del Jscore['소수점']\n",
    "Jscore['영화명'] = movie_name\n",
    "\n",
    "Nscore = pd.DataFrame(data = Nscore_list, columns=['10의 자리','.','1의 자리', '소수점'])\n",
    "Nscore['네티즌 평점'] = Nscore['10의 자리'] + Nscore['.'] + Nscore['1의 자리'] + Nscore['소수점']\n",
    "del Nscore['10의 자리']\n",
    "del Nscore['1의 자리']\n",
    "del Nscore['.']\n",
    "del Nscore['소수점']\n",
    "Nscore['영화명'] = movie_name\n",
    "\n",
    "tscore = pd.merge(Ascore, Jscore, how = 'left', on ='영화명')\n",
    "total_score = pd.merge(tscore, Nscore, how = 'left', on='영화명')\n",
    "total_score = total_score[['영화명', '관람객 평점', '기자/평론가 평점', '네티즌 평점']]\n",
    "total_score"
   ]
  }
 ],
 "metadata": {
  "kernelspec": {
   "display_name": "Python 3 (ipykernel)",
   "language": "python",
   "name": "python3"
  },
  "language_info": {
   "codemirror_mode": {
    "name": "ipython",
    "version": 3
   },
   "file_extension": ".py",
   "mimetype": "text/x-python",
   "name": "python",
   "nbconvert_exporter": "python",
   "pygments_lexer": "ipython3",
   "version": "3.10.6"
  }
 },
 "nbformat": 4,
 "nbformat_minor": 5
}
