{
 "cells": [
  {
   "cell_type": "code",
   "execution_count": 3,
   "id": "f9441dc8",
   "metadata": {},
   "outputs": [],
   "source": [
    "import pandas as pd\n",
    "from selenium import webdriver\n",
    "from selenium.webdriver.common.by import By"
   ]
  },
  {
   "cell_type": "code",
   "execution_count": 4,
   "id": "0efaa200",
   "metadata": {
    "scrolled": true
   },
   "outputs": [],
   "source": [
    "def Chicago_Crawling() : \n",
    "    \n",
    "    driver = webdriver.Chrome('/Users/kanovatio/Crawling/chromedriver')\n",
    "    \n",
    "    url='https://movie.naver.com/movie/point/af/list.naver'\n",
    "    driver.get(url)\n",
    "\n",
    "    chicago_list = driver.find_elements(By.CSS_SELECTOR, '#post-11772 > div.grid-container.grid-parent.article-wrap > div.grid-12.prefix-1.tablet-grid-14.tablet-prefix-0.suffix-1.mobile-grid-100.mobile-prefix-0.mobile-suffix-0 > div.article-body > div')\n",
    "\n",
    "    total_list = []\n",
    "\n",
    "    for data in chicago_list:\n",
    "        Menu = data.find_element(By.CSS_SELECTOR,'div.sammyListing > a > b').text\n",
    "        Rank = data.find_element(By.CSS_SELECTOR,'div.sammyRank').text\n",
    "        url = data.find_element(By.CSS_SELECTOR,'div.sammyListing > a').get_attribute('href')#속성\n",
    "        Cafe = data.find_element(By.CSS_SELECTOR, 'div.sammyListing > a').text.replace(Menu, '').replace('Read more','').replace('\\n','')\n",
    "\n",
    "        total_list.append([Rank, Cafe, Menu, url])\n",
    "\n",
    "        #print('Rank : {}, Cafe : {}, Menu : {}, url : {}'.format(Rank, Cafe, Menu, url))\n",
    "\n",
    "    chicago_data = pd.DataFrame(data=total_list,columns=['순위', '카페명','메뉴', 'url']).set_index('순위')\n",
    "    \n",
    "    print('##### 시카고 식당 순위 크롤링이 종료되었습니다. #########')\n",
    "    driver.quit()\n",
    "    return chicago_data"
   ]
  },
  {
   "cell_type": "code",
   "execution_count": 8,
   "id": "84b498ca",
   "metadata": {
    "scrolled": true
   },
   "outputs": [],
   "source": [
    "def Chicago_Crawling() : \n",
    "    \n",
    "    driver = webdriver.Chrome('/Users/kanovatio/Crawling/chromedriver')\n",
    "    \n",
    "    url='https://www.chicagomag.com/chicago-magazine/november-2012/best-sandwiches-chicago/'\n",
    "    driver.get(url)\n",
    "\n",
    "    chicago_list = driver.find_elements(By.CSS_SELECTOR, '#post-11772 > div.grid-container.grid-parent.article-wrap > div.grid-12.prefix-1.tablet-grid-14.tablet-prefix-0.suffix-1.mobile-grid-100.mobile-prefix-0.mobile-suffix-0 > div.article-body > div')\n",
    "\n",
    "    for data in chicago_list:\n",
    "        menu = data.find_element(By.CSS_SELECTOR,'div.sammyListing > a > b').text\n",
    "        print('menu : ', menu)\n",
    "\n",
    "    total_list = []\n",
    "\n",
    "    for data in chicago_list:\n",
    "        Menu = data.find_element(By.CSS_SELECTOR,'div.sammyListing > a > b').text\n",
    "        Rank = data.find_element(By.CSS_SELECTOR,'div.sammyRank').text\n",
    "        url = data.find_element(By.CSS_SELECTOR,'div.sammyListing > a').get_attribute('href')#속성\n",
    "        Cafe = data.find_element(By.CSS_SELECTOR, 'div.sammyListing > a').text.replace(Menu, '').replace('Read more','').replace('\\n','')\n",
    "\n",
    "        total_list.append([Rank, Cafe, Menu, url])\n",
    "\n",
    "        #print('Rank : {}, Cafe : {}, Menu : {}, url : {}'.format(Rank, Cafe, Menu, url))\n",
    "\n",
    "    chicago_data = pd.DataFrame(data=total_list,columns=['순위', '카페명','메뉴', 'url']).set_index('순위')\n",
    "    \n",
    "    print('##### 시카고 식당 순위 크롤링이 종료되었습니다. ####')\n",
    "    driver.quit()\n",
    "    return chicago_data"
   ]
  },
  {
   "cell_type": "code",
   "execution_count": 9,
   "id": "149f376c",
   "metadata": {
    "scrolled": true
   },
   "outputs": [
    {
     "name": "stderr",
     "output_type": "stream",
     "text": [
      "/var/folders/9t/s4kfwbj54wj1sw01v7vtb68h0000gn/T/ipykernel_70427/3522913376.py:3: DeprecationWarning: executable_path has been deprecated, please pass in a Service object\n",
      "  driver = webdriver.Chrome('/Users/kanovatio/Crawling/chromedriver')\n"
     ]
    },
    {
     "name": "stdout",
     "output_type": "stream",
     "text": [
      "menu :  BLT\n",
      "menu :  Fried Bologna\n",
      "menu :  Woodland Mushroom\n",
      "menu :  Roast Beef\n",
      "menu :  PB&L\n",
      "menu :  Belgian Chicken Curry Salad\n",
      "menu :  Lobster Roll\n",
      "menu :  Smoked Salmon Salad\n",
      "menu :  Atomica Cemitas\n",
      "menu :  Grilled Laughing Bird Shrimp and Fried Po’ Boy\n",
      "menu :  Ham and Raclette Panino\n",
      "menu :  Breaded Steak\n",
      "menu :  The Hawkeye\n",
      "menu :  Chicken Dip\n",
      "menu :  Wild Boar Sloppy Joe\n",
      "menu :  Meatball Sub\n",
      "menu :  Corned Beef\n",
      "menu :  Turkey Club\n",
      "menu :  Falafel\n",
      "menu :  Crab Cake\n",
      "menu :  Chicken Schnitzel\n",
      "menu :  Shawarma\n",
      "menu :  Toasted Pimiento Cheese\n",
      "menu :  Vegetarian Panino\n",
      "menu :  Cali Chèvre\n",
      "menu :  Pastrami\n",
      "menu :  The Fredo\n",
      "menu :  Smoked Ham\n",
      "menu :  Jibarito\n",
      "menu :  Shaved Prime Rib\n",
      "menu :  Serrano Ham and Manchego Cheese\n",
      "menu :  Tuna Salad\n",
      "menu :  Paramount Reuben\n",
      "menu :  The Istanbul\n",
      "menu :  B.A.D.\n",
      "menu :  Duck Confit and Mozzarella\n",
      "menu :  Croque Monsieur\n",
      "menu :  Green Garbanzo\n",
      "menu :  The Hen House\n",
      "menu :  Tuscan Chicken\n",
      "menu :  The Marty\n",
      "menu :  Whitefish\n",
      "menu :  Oat Bread, Pecan Butter, and Fruit Jam\n",
      "menu :  Cauliflower Melt\n",
      "menu :  Cubana\n",
      "menu :  Kufta\n",
      "menu :  Debbie’s Egg Salad\n",
      "menu :  Beef Curry\n",
      "menu :  Le Végétarien\n",
      "menu :  The Gatsby\n",
      "##### 시카고 식당 순위 크롤링이 종료되었습니다. ####\n"
     ]
    }
   ],
   "source": [
    "data = Chicago_Crawling()"
   ]
  },
  {
   "cell_type": "code",
   "execution_count": 11,
   "id": "e4e87112",
   "metadata": {
    "scrolled": true
   },
   "outputs": [
    {
     "data": {
      "text/html": [
       "<div>\n",
       "<style scoped>\n",
       "    .dataframe tbody tr th:only-of-type {\n",
       "        vertical-align: middle;\n",
       "    }\n",
       "\n",
       "    .dataframe tbody tr th {\n",
       "        vertical-align: top;\n",
       "    }\n",
       "\n",
       "    .dataframe thead th {\n",
       "        text-align: right;\n",
       "    }\n",
       "</style>\n",
       "<table border=\"1\" class=\"dataframe\">\n",
       "  <thead>\n",
       "    <tr style=\"text-align: right;\">\n",
       "      <th></th>\n",
       "      <th>카페명</th>\n",
       "      <th>메뉴</th>\n",
       "      <th>url</th>\n",
       "    </tr>\n",
       "    <tr>\n",
       "      <th>순위</th>\n",
       "      <th></th>\n",
       "      <th></th>\n",
       "      <th></th>\n",
       "    </tr>\n",
       "  </thead>\n",
       "  <tbody>\n",
       "    <tr>\n",
       "      <th>1</th>\n",
       "      <td>Old Oak Tap</td>\n",
       "      <td>BLT</td>\n",
       "      <td>https://www.chicagomag.com/Chicago-Magazine/No...</td>\n",
       "    </tr>\n",
       "    <tr>\n",
       "      <th>2</th>\n",
       "      <td>Au Cheval</td>\n",
       "      <td>Fried Bologna</td>\n",
       "      <td>https://www.chicagomag.com/Chicago-Magazine/No...</td>\n",
       "    </tr>\n",
       "    <tr>\n",
       "      <th>3</th>\n",
       "      <td>Xoco</td>\n",
       "      <td>Woodland Mushroom</td>\n",
       "      <td>https://www.chicagomag.com/Chicago-Magazine/No...</td>\n",
       "    </tr>\n",
       "    <tr>\n",
       "      <th>4</th>\n",
       "      <td>Al’s Deli</td>\n",
       "      <td>Roast Beef</td>\n",
       "      <td>https://www.chicagomag.com/Chicago-Magazine/No...</td>\n",
       "    </tr>\n",
       "    <tr>\n",
       "      <th>5</th>\n",
       "      <td>Publican Quality Meats</td>\n",
       "      <td>PB&amp;L</td>\n",
       "      <td>https://www.chicagomag.com/Chicago-Magazine/No...</td>\n",
       "    </tr>\n",
       "  </tbody>\n",
       "</table>\n",
       "</div>"
      ],
      "text/plain": [
       "                       카페명                 메뉴  \\\n",
       "순위                                              \n",
       "1              Old Oak Tap                BLT   \n",
       "2                Au Cheval      Fried Bologna   \n",
       "3                     Xoco  Woodland Mushroom   \n",
       "4                Al’s Deli         Roast Beef   \n",
       "5   Publican Quality Meats               PB&L   \n",
       "\n",
       "                                                  url  \n",
       "순위                                                     \n",
       "1   https://www.chicagomag.com/Chicago-Magazine/No...  \n",
       "2   https://www.chicagomag.com/Chicago-Magazine/No...  \n",
       "3   https://www.chicagomag.com/Chicago-Magazine/No...  \n",
       "4   https://www.chicagomag.com/Chicago-Magazine/No...  \n",
       "5   https://www.chicagomag.com/Chicago-Magazine/No...  "
      ]
     },
     "execution_count": 11,
     "metadata": {},
     "output_type": "execute_result"
    }
   ],
   "source": [
    "data.head()"
   ]
  }
 ],
 "metadata": {
  "kernelspec": {
   "display_name": "Python 3 (ipykernel)",
   "language": "python",
   "name": "python3"
  },
  "language_info": {
   "codemirror_mode": {
    "name": "ipython",
    "version": 3
   },
   "file_extension": ".py",
   "mimetype": "text/x-python",
   "name": "python",
   "nbconvert_exporter": "python",
   "pygments_lexer": "ipython3",
   "version": "3.10.6"
  }
 },
 "nbformat": 4,
 "nbformat_minor": 5
}
