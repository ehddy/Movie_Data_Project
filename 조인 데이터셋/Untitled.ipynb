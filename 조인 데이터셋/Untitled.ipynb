{
 "cells": [
  {
   "cell_type": "code",
   "execution_count": 2,
   "id": "b55a80b7",
   "metadata": {},
   "outputs": [],
   "source": [
    "import pandas as pd\n",
    "import numpy as np\n",
    "import openpyxl\n",
    "import matplotlib.pyplot as plt\n",
    "%matplotlib inline\n",
    "import seaborn as sns\n",
    "\n",
    "plt.rc('font', family='AppleGothic')\n",
    "\n",
    "# 맥 폰트 \n",
    "plt.rcParams['axes.unicode_minus'] = False\n",
    "\n",
    "import warnings\n",
    "warnings.filterwarnings('ignore')"
   ]
  },
  {
   "cell_type": "code",
   "execution_count": 4,
   "id": "172cc2eb",
   "metadata": {},
   "outputs": [],
   "source": [
    "# 조인 기준이 되는 영화 제목 데이터\n",
    "base_data = pd.read_excel('/Users/dongyokim/main/jupyter/2022:2/Movie_Project/데이터 전처리/영화 제목 및 정보 main_dataset_10_3.xlsx')"
   ]
  },
  {
   "cell_type": "code",
   "execution_count": null,
   "id": "6f3e3a57",
   "metadata": {},
   "outputs": [],
   "source": [
    "# 영화 상세 api 받아서 조인해주자\n",
    "key = 'c5cf7452f29a492d33ba4edb3b66811f'\n",
    "movie_code = '20223985'\n",
    "url = 'http://www.kobis.or.kr/kobisopenapi/webservice/rest/movie/searchMovieInfo.json?key={}&movieCd={}'.format(key,movie_code)\n",
    "res = requests.get(url)\n",
    "text = res.text\n",
    "d = json.loads(text)\n",
    "\n",
    "\n",
    "mov_ifo = d['movieInfoResult']['movieInfo']\n",
    "# [mov_ifo['movieNm'], mov_ifo['prdtYear'], mov_ifo['showTm'], mov_ifo['openDt'], mov_ifo['prdtStatNm'], mov_ifo['typeNm'], mov_ifo['nations'][0]['nationNm'], [mov_ifo['genres'][i]['genreNm'] for i in range(len(mov_ifo['genres']))], [mov_ifo['directors'][i]['peopleNm'] for i in range(len(mov_ifo['directors']))], [mov_ifo['actors'][i]['peopleNm'] for i in range(len(mov_ifo['actors']))], mov_ifo['audits'][0]['watchGradeNm']]) "
   ]
  },
  {
   "cell_type": "code",
   "execution_count": null,
   "id": "b30851bb",
   "metadata": {},
   "outputs": [],
   "source": [
    "daa"
   ]
  }
 ],
 "metadata": {
  "kernelspec": {
   "display_name": "Python 3 (ipykernel)",
   "language": "python",
   "name": "python3"
  },
  "language_info": {
   "codemirror_mode": {
    "name": "ipython",
    "version": 3
   },
   "file_extension": ".py",
   "mimetype": "text/x-python",
   "name": "python",
   "nbconvert_exporter": "python",
   "pygments_lexer": "ipython3",
   "version": "3.9.7"
  }
 },
 "nbformat": 4,
 "nbformat_minor": 5
}
