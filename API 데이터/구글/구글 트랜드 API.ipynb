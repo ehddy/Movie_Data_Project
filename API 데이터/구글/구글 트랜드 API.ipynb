{
 "cells": [
  {
   "cell_type": "markdown",
   "id": "a15cab5e",
   "metadata": {},
   "source": [
    "## 1. Google과 연결 "
   ]
  },
  {
   "cell_type": "code",
   "execution_count": 49,
   "id": "d82c5237",
   "metadata": {},
   "outputs": [],
   "source": [
    "from pytrends.request import TrendReq\n",
    "import pandas as pd\n",
    "\n",
    "# hl = host 언어, tz = timezone\n",
    "pytrends = TrendReq(hl='kr', tz=360)"
   ]
  },
  {
   "cell_type": "code",
   "execution_count": 69,
   "id": "3112f886",
   "metadata": {},
   "outputs": [],
   "source": [
    "# https://pypi.org/project/pytrends/#interest-over-time\n",
    "kw_list = \"탑건\"\n",
    "pytrends.build_payload([kw_list], cat=0, timeframe='today 5-y', geo='KR', gprop='')"
   ]
  },
  {
   "cell_type": "code",
   "execution_count": 70,
   "id": "37a99e6f",
   "metadata": {},
   "outputs": [],
   "source": [
    "trend_data = pytrends.interest_over_time()"
   ]
  },
  {
   "cell_type": "code",
   "execution_count": 71,
   "id": "eee6e38c",
   "metadata": {},
   "outputs": [],
   "source": [
    "trend_data.drop('isPartial', axis=1, inplace=True)"
   ]
  },
  {
   "cell_type": "code",
   "execution_count": 75,
   "id": "07d2e451",
   "metadata": {},
   "outputs": [
    {
     "data": {
      "text/html": [
       "<div>\n",
       "<style scoped>\n",
       "    .dataframe tbody tr th:only-of-type {\n",
       "        vertical-align: middle;\n",
       "    }\n",
       "\n",
       "    .dataframe tbody tr th {\n",
       "        vertical-align: top;\n",
       "    }\n",
       "\n",
       "    .dataframe thead th {\n",
       "        text-align: right;\n",
       "    }\n",
       "</style>\n",
       "<table border=\"1\" class=\"dataframe\">\n",
       "  <thead>\n",
       "    <tr style=\"text-align: right;\">\n",
       "      <th></th>\n",
       "      <th>탑건</th>\n",
       "    </tr>\n",
       "    <tr>\n",
       "      <th>date</th>\n",
       "      <th></th>\n",
       "    </tr>\n",
       "  </thead>\n",
       "  <tbody>\n",
       "    <tr>\n",
       "      <th>2017-07-23</th>\n",
       "      <td>1</td>\n",
       "    </tr>\n",
       "    <tr>\n",
       "      <th>2017-07-30</th>\n",
       "      <td>0</td>\n",
       "    </tr>\n",
       "    <tr>\n",
       "      <th>2017-08-06</th>\n",
       "      <td>1</td>\n",
       "    </tr>\n",
       "    <tr>\n",
       "      <th>2017-08-13</th>\n",
       "      <td>0</td>\n",
       "    </tr>\n",
       "    <tr>\n",
       "      <th>2017-08-20</th>\n",
       "      <td>1</td>\n",
       "    </tr>\n",
       "    <tr>\n",
       "      <th>...</th>\n",
       "      <td>...</td>\n",
       "    </tr>\n",
       "    <tr>\n",
       "      <th>2022-06-19</th>\n",
       "      <td>78</td>\n",
       "    </tr>\n",
       "    <tr>\n",
       "      <th>2022-06-26</th>\n",
       "      <td>100</td>\n",
       "    </tr>\n",
       "    <tr>\n",
       "      <th>2022-07-03</th>\n",
       "      <td>83</td>\n",
       "    </tr>\n",
       "    <tr>\n",
       "      <th>2022-07-10</th>\n",
       "      <td>68</td>\n",
       "    </tr>\n",
       "    <tr>\n",
       "      <th>2022-07-17</th>\n",
       "      <td>78</td>\n",
       "    </tr>\n",
       "  </tbody>\n",
       "</table>\n",
       "<p>261 rows × 1 columns</p>\n",
       "</div>"
      ],
      "text/plain": [
       "             탑건\n",
       "date           \n",
       "2017-07-23    1\n",
       "2017-07-30    0\n",
       "2017-08-06    1\n",
       "2017-08-13    0\n",
       "2017-08-20    1\n",
       "...         ...\n",
       "2022-06-19   78\n",
       "2022-06-26  100\n",
       "2022-07-03   83\n",
       "2022-07-10   68\n",
       "2022-07-17   78\n",
       "\n",
       "[261 rows x 1 columns]"
      ]
     },
     "execution_count": 75,
     "metadata": {},
     "output_type": "execute_result"
    }
   ],
   "source": [
    "trend_data"
   ]
  },
  {
   "cell_type": "code",
   "execution_count": 74,
   "id": "d94a23d4",
   "metadata": {},
   "outputs": [
    {
     "data": {
      "text/plain": [
       "78"
      ]
     },
     "execution_count": 74,
     "metadata": {},
     "output_type": "execute_result"
    }
   ],
   "source": [
    "trend_data[kw_list][-1]"
   ]
  },
  {
   "cell_type": "code",
   "execution_count": null,
   "id": "1b71a9e6",
   "metadata": {},
   "outputs": [],
   "source": []
  }
 ],
 "metadata": {
  "kernelspec": {
   "display_name": "Python 3 (ipykernel)",
   "language": "python",
   "name": "python3"
  },
  "language_info": {
   "codemirror_mode": {
    "name": "ipython",
    "version": 3
   },
   "file_extension": ".py",
   "mimetype": "text/x-python",
   "name": "python",
   "nbconvert_exporter": "python",
   "pygments_lexer": "ipython3",
   "version": "3.9.7"
  }
 },
 "nbformat": 4,
 "nbformat_minor": 5
}
