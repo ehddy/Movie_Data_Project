{
 "cells": [
  {
   "cell_type": "code",
   "execution_count": null,
   "id": "14c01f6f",
   "metadata": {},
   "outputs": [],
   "source": []
  },
  {
   "cell_type": "code",
   "execution_count": 11,
   "id": "947a9c6d",
   "metadata": {},
   "outputs": [
    {
     "name": "stdout",
     "output_type": "stream",
     "text": [
      "b'<?xml version=\"1.0\" encoding=\"UTF-8\"?>\\n<soapenv:Envelope xmlns:soapenv=\"http://schemas.xmlsoap.org/soap/envelope/\">\\n    <soapenv:Body>\\n        <soapenv:Fault>\\n            <faultcode>soapenv:Server</faultcode>\\n            <faultstring>Policy Falsified</faultstring>\\n            <faultactor>http://apis.data.go.kr/B551177/AviationStatsByAirline?serviceKey=7GRMBFtqXjvKY%252FctwLPOnFYQKe%252BLd50fIjkSxBfWMl8nrYB3bkyfjjj9B3Be3GwvolJVtVf9t%252BWMet9bewRegA%253D%253D&amp;from_month=201405&amp;to_month=201405&amp;periodicity=0&amp;pax_cargo=Y&amp;domestic_foreign=I&amp;type=xml</faultactor>\\n            <detail>\\n                <l7:policyResult\\n                    status=\"Service Not Found.  The request may have been sent to an invalid URL, or intended for an unsupported operation.\" xmlns:l7=\"http://www.layer7tech.com/ws/policy/fault\"/>\\n            </detail>\\n        </soapenv:Fault>\\n    </soapenv:Body>\\n</soapenv:Envelope>\\n'\n"
     ]
    }
   ],
   "source": [
    "\n",
    "import requests\n",
    "\n",
    "url = 'http://apis.data.go.kr/B551177/AviationStatsByAirline'\n",
    "params ={'serviceKey' : key, 'from_month' : '201405', 'to_month' : '201405', 'periodicity' : '0', 'pax_cargo' : 'Y', 'domestic_foreign' : 'I', 'type' : 'xml' }\n",
    "\n",
    "response = requests.get(url, params=params)\n",
    "print(response.content)"
   ]
  },
  {
   "cell_type": "code",
   "execution_count": 14,
   "id": "3db63557",
   "metadata": {},
   "outputs": [],
   "source": [
    "key = \"5djfA08jIF15liQ665SwO6nP6%2FUkDyYq6USVGnXvFGdlxlGl7khFK34BZznQCLyCHqfV1G2TgldjFWkOvr2v%2FA%3D%3D\"\n",
    "key = key.encode('utf-8')"
   ]
  },
  {
   "cell_type": "code",
   "execution_count": 25,
   "id": "8ea022f9",
   "metadata": {},
   "outputs": [],
   "source": [
    "url = 'http://apis.data.go.kr/B551177/AviationStatsByAirline/getTotalNumberOfFlight?key={}&from_month={}&to_month={}&periodicity={}&pax_cargo={}&domestic_foreign={}&type={}'.format(key, '201405','201405', '0','Y', 'I', 'xml')"
   ]
  },
  {
   "cell_type": "code",
   "execution_count": 24,
   "id": "941f7d63",
   "metadata": {},
   "outputs": [
    {
     "name": "stdout",
     "output_type": "stream",
     "text": [
      "b'<OpenAPI_ServiceResponse>\\n\\t<cmmMsgHeader>\\n\\t\\t<errMsg>SERVICE ERROR</errMsg>\\n\\t\\t<returnAuthMsg>SERVICE_KEY_IS_NOT_REGISTERED_ERROR</returnAuthMsg>\\n\\t\\t<returnReasonCode>30</returnReasonCode>\\n\\t</cmmMsgHeader>\\n</OpenAPI_ServiceResponse>'\n"
     ]
    }
   ],
   "source": [
    "import requests\n",
    "\n",
    "# url = 'http://apis.data.go.kr/B551177/AviationStatsByAirline/getTotalNumberOfFlight'\n",
    "# params ={'serviceKey' : key, 'from_month' : '201405', 'to_month' : '201405', 'periodicity' : '0', 'pax_cargo' : 'Y', 'domestic_foreign' : 'I', 'type' : 'xml' }\n",
    "\n",
    "response = requests.get(url)\n",
    "print(response.content)"
   ]
  },
  {
   "cell_type": "code",
   "execution_count": null,
   "id": "5532737d",
   "metadata": {},
   "outputs": [],
   "source": [
    "im"
   ]
  },
  {
   "cell_type": "code",
   "execution_count": null,
   "id": "6f09ea47",
   "metadata": {},
   "outputs": [],
   "source": []
  }
 ],
 "metadata": {
  "kernelspec": {
   "display_name": "Python 3 (ipykernel)",
   "language": "python",
   "name": "python3"
  },
  "language_info": {
   "codemirror_mode": {
    "name": "ipython",
    "version": 3
   },
   "file_extension": ".py",
   "mimetype": "text/x-python",
   "name": "python",
   "nbconvert_exporter": "python",
   "pygments_lexer": "ipython3",
   "version": "3.9.7"
  }
 },
 "nbformat": 4,
 "nbformat_minor": 5
}
