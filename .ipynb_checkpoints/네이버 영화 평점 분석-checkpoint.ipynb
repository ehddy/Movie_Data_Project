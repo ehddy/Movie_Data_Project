{
 "cells": [
  {
   "cell_type": "code",
   "execution_count": 4,
   "id": "16f15aad",
   "metadata": {},
   "outputs": [],
   "source": [
    "import pandas as pd\n",
    "from selenium import webdriver\n",
    "from selenium.webdriver.common.by import By"
   ]
  },
  {
   "cell_type": "code",
   "execution_count": 5,
   "id": "d29ebf03",
   "metadata": {},
   "outputs": [],
   "source": [
    "def naver_movie_crawling() : \n",
    "    \n",
    "    driver = webdriver.Chrome('/Users/kanovatio/Crawling/chromedriver')\n",
    "    \n",
    "    url='https://movie.naver.com/movie/point/af/list.naver?&page=1'\n",
    "    driver.get(url)\n",
    "\n",
    "    naver_grade = driver.find_elements(By.CSS_SELECTOR, '#old_content > table > tbody > tr:nth-child(1) > td.title > a.movie.color_b')\n",
    "\n",
    "    total_list = []\n",
    "    \n",
    "    for data in naver_grade:\n",
    "        name = data.find_element(By.CSS_SELECTOR,'a.movie.color_b').text\n",
    "        grade = data.find_element(By.CSS_SELECTOR,'td.title > div').text\n",
    "\n",
    "        total_list.append([name, grade])\n",
    "\n",
    "    movie_grade_data = pd.DataFrame(data=total_list,columns=['영화명', '평점'])\n",
    "    \n",
    "    print('##### 네이버 평점 크롤링 분석이 완료됐습니다. #########')\n",
    "    driver.quit()\n",
    "    return movie_grade_data"
   ]
  },
  {
   "cell_type": "code",
   "execution_count": null,
   "id": "008090d7",
   "metadata": {},
   "outputs": [],
   "source": []
  },
  {
   "cell_type": "code",
   "execution_count": null,
   "id": "5612c04e",
   "metadata": {},
   "outputs": [],
   "source": []
  },
  {
   "cell_type": "code",
   "execution_count": null,
   "id": "5a200992",
   "metadata": {},
   "outputs": [],
   "source": []
  },
  {
   "cell_type": "code",
   "execution_count": null,
   "id": "326d2e40",
   "metadata": {},
   "outputs": [],
   "source": []
  }
 ],
 "metadata": {
  "kernelspec": {
   "display_name": "Python 3 (ipykernel)",
   "language": "python",
   "name": "python3"
  },
  "language_info": {
   "codemirror_mode": {
    "name": "ipython",
    "version": 3
   },
   "file_extension": ".py",
   "mimetype": "text/x-python",
   "name": "python",
   "nbconvert_exporter": "python",
   "pygments_lexer": "ipython3",
   "version": "3.10.6"
  }
 },
 "nbformat": 4,
 "nbformat_minor": 5
}
