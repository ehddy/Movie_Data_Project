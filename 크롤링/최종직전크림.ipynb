{
 "cells": [
  {
   "cell_type": "code",
   "execution_count": 1,
   "id": "4ba31914",
   "metadata": {},
   "outputs": [
    {
     "name": "stderr",
     "output_type": "stream",
     "text": [
      "/var/folders/xd/jtgrpp0901q9xlm5h0lqrwkc0000gn/T/ipykernel_49954/3568215962.py:8: DeprecationWarning: executable_path has been deprecated, please pass in a Service object\n",
      "  driver = webdriver.Chrome(executable_path='/Users/yoon-wonseo/pythonproject/exe/chromedriver')\n"
     ]
    }
   ],
   "source": [
    "from selenium import webdriver\n",
    "import time\n",
    "from selenium.webdriver.common.keys import Keys\n",
    "\n",
    "import pandas as pd\n",
    "from selenium.webdriver.chrome.service import Service\n",
    "\n",
    "driver = webdriver.Chrome(executable_path='/Users/yoon-wonseo/pythonproject/exe/chromedriver')\n",
    "driver.set_window_size(1000, 1000)\n",
    "\n",
    "from selenium.webdriver.common.by import By\n",
    "from datetime import datetime"
   ]
  },
  {
   "cell_type": "code",
   "execution_count": 2,
   "id": "cc1753c2",
   "metadata": {},
   "outputs": [
    {
     "name": "stdout",
     "output_type": "stream",
     "text": [
      "크림 ID를 입력해주세요 : wonse1111\n",
      "크림 비밀번호를 입력해주세요 : dnjstjWkd01\n"
     ]
    }
   ],
   "source": [
    "# 로그인 자동(이거 우회해서 보안문자 피하는 방법 있던데 시간이 없어서 못하겄다)\n",
    "driver.get('https://kream.co.kr/login')\n",
    "\n",
    "\n",
    "\n",
    "# 네이버로 로그인 클릭\n",
    "driver.find_element(By.CSS_SELECTOR, 'button.btn.btn_login_naver.full.outline').click()\n",
    "time.sleep(0.5)\n",
    "\n",
    "# 새로운 탭 전환 \n",
    "driver.switch_to.window(driver.window_handles[-1])\n",
    "\n",
    "\n",
    "# id, pwd 입력 \n",
    "id_ = input('크림 ID를 입력해주세요 : ')\n",
    "pwd_ = input('크림 비밀번호를 입력해주세요 : ')\n",
    "\n",
    "\n",
    "naver_id = id_\n",
    "naver_pwd = pwd_\n",
    "\n",
    "# 아이디 넣기 \n",
    "id_input = driver.find_element(By.CSS_SELECTOR, '#id')\n",
    "\n",
    "id_input.clear()\n",
    "time.sleep(0.5)\n",
    "id_input.send_keys(id_)\n",
    "\n",
    "pwd_input = driver.find_element(By.CSS_SELECTOR, '#pw')\n",
    "pwd_input.clear()\n",
    "time.sleep(0.5)\n",
    "pwd_input.send_keys(pwd_)\n",
    "\n",
    "# 클릭 \n",
    "driver.find_element(By.CSS_SELECTOR, '#log\\.login').click()\n"
   ]
  },
  {
   "cell_type": "code",
   "execution_count": 3,
   "id": "90852179",
   "metadata": {},
   "outputs": [
    {
     "name": "stdout",
     "output_type": "stream",
     "text": [
      "로그인을 완료했습니다.\n",
      "####################\n"
     ]
    }
   ],
   "source": [
    "# 만약 비밀번호가 일치하지 않을 수도 있으니 로그인을 완료하고 이걸 눌러주자\n",
    "\n",
    "time.sleep(0.5)\n",
    "\n",
    "# 다시 원래 탭으로 전환 \n",
    "\n",
    "driver.switch_to.window(driver.window_handles[0])\n",
    "print('로그인을 완료했습니다.')\n",
    "print('####################')"
   ]
  },
  {
   "cell_type": "code",
   "execution_count": 4,
   "id": "757a80ba",
   "metadata": {},
   "outputs": [],
   "source": [
    "# 크롤링 함수 \n",
    "def Kream_Sneakers_Crawling():\n",
    "    \n",
    "    # 3.14.1 버전은 이렇게.. \n",
    "    driver = webdriver.Chrome(executable_path='/Users/yoon-wonseo/pythonproject/exe/chromedriver')\n",
    "    driver.set_window_size(1000, 1000)\n",
    "    \n",
    "    # 전체 신발 데이터 리스트 \n",
    "    total_sneakers_data = []\n",
    "\n",
    "    ''' 원하는 페이지 지정(최종으로 데이터 수집을 할때는 99999로 지정해야할 듯, \n",
    "                      근데 이건 다시 확인 필요함. 몇 페이지까지 신발이 있는지 범위를 지정해줘야함,\n",
    "                      다섯 자리까지 같은데 확실하지 않으니 확인 필요, 그리고 신발뿐만 아니라,\n",
    "                      다른 옷이나 악세사리도 나타나는 문제가 발생할 것임)\n",
    "                      아니면 크림 사이트 -> shop -> 신발 카테고리에서 자동으로 스크롤 내리면서\n",
    "                      신발 상품번호만 일단 긁어온 다음에, 신발 상품번호 리스트를 만들어서 상품번호를 \n",
    "                      기준으로 URL을 이동하면 신발 데이터만 긁어올 수 있을듯 \n",
    "    '''\n",
    "    page_num = int(input('몇 페이지까지 웹스크래핑을 진행하시겠습니까? : '))\n",
    "\n",
    "    print('##################')\n",
    "    print('크림 신발 정보 웹스크래핑을 시작합니다.')\n",
    "\n",
    "    for i in range(page_num+1):\n",
    " \n",
    "        driver.get('https://kream.co.kr/products/{}'.format(i))\n",
    "        # 너무 웹 사이트가 빠르게 이동하면 오류가 쉽게 나고 중간에 빼먹고 안긁어오는 값이 있으니 sleep으로 잠깐 쉬는 타임을 준다.\n",
    "        # 1.5초 동안 휴식(사용자 지정: 보통 0.5) 값이 잘 안들어간다면 중간중간에 time.sleep을 넣어주자 원서상\n",
    "        time.sleep(0.5)\n",
    "           \n",
    "        try:\n",
    "            # 브랜드명\n",
    "            product_brand_name = driver.find_element(By.CSS_SELECTOR,'div.detail_main_title > div > div > a').text\n",
    "        except:\n",
    "            continue\n",
    "        \n",
    "        try:\n",
    "            # 상품명(영어이름)\n",
    "            product_eng_name = driver.find_element(By.CSS_SELECTOR,'div.detail_main_title > div > p.title').text\n",
    "        except:\n",
    "            product_eng_name = ''\n",
    "\n",
    "        try:\n",
    "            # 상품명(한국이름)\n",
    "            product_kor_name  = driver.find_element(By.CSS_SELECTOR, 'div.detail_main_title > div > p.sub_title').text\n",
    "        except:\n",
    "            product_kor_name = ''\n",
    "        # 상품 정보 (해당 열부터는 결측치가 존재할 수도 있음)\n",
    "        try:\n",
    "            # 모델 번호 \n",
    "            product_model_code = driver.find_element(By.CSS_SELECTOR,'div.detail_box.model_num > dd').text\n",
    "        except:\n",
    "             # 오류가 난 경우 값을 ''으로 표현(결측값)\n",
    "            product_model_code = ''\n",
    "        try:\n",
    "            # 출시일\n",
    "            product_release_date = driver.find_element(By.CSS_SELECTOR,'div.content > div > div:nth-child(2) > div > div.product_info_wrap > div > dl > div:nth-child(2) > dd').text\n",
    "        except:\n",
    "            product_release_date = ''\n",
    "\n",
    "        try:\n",
    "            # 발매가\n",
    "            product_release_price = driver.find_element(By.CSS_SELECTOR,'div.product_info_wrap > div > dl > div:nth-child(4) > dd').text\n",
    "        except:\n",
    "            product_release_price = ''\n",
    "\n",
    "        try:\n",
    "            # 즉시 구매가\n",
    "            product_purchase_price = driver.find_element(By.CSS_SELECTOR, 'div.container.detail > div.content > div > div:nth-child(2) > div > div.column_top > div.btn_wrap > div > a.btn_division.buy > div > span.amount > em').text\n",
    "        except:\n",
    "            product_purchase_price = ''\n",
    "\n",
    "        try:\n",
    "            # 즉시 판매가\n",
    "            product_sale_price = driver.find_element(By.CSS_SELECTOR, 'div.container.detail > div.content > div > div:nth-child(2) > div > div.column_top > div.btn_wrap > div > a.btn_division.sell > div > span.amount > em').text\n",
    "        except:\n",
    "            product_sale_price = ''\n",
    "\n",
    "        try:\n",
    "            # 컬러\n",
    "            product_color = driver.find_element(By.CSS_SELECTOR,'div.product_info_wrap > div > dl > div:nth-child(3) > dd').text\n",
    "        except:\n",
    "            product_color = ''\n",
    "            \n",
    "        try:\n",
    "            # 최근 거래가\n",
    "            product_recent_price = driver.find_element(By.CSS_SELECTOR, 'div.container.detail > div.content > div > div:nth-child(2) > div > div.column_top > div.product_figure_wrap > div.detail_price > div.price > div.amount > span.num').text\n",
    "        except:\n",
    "            product_recent_price = ''\n",
    "\n",
    "        try:\n",
    "            # 전 대비 증감분(증가할때랑 감소할때랑 클래스명이 달라서 중첩 try문 사용)\n",
    "            try:\n",
    "                product_variance = driver.find_element(By.CSS_SELECTOR, '#__layout > div > div.container.detail > div.content > div > div:nth-child(2) > div > div.column_top > div.product_figure_wrap > div.detail_price > div.price > div.fluctuation.decrease > p').text  \n",
    "            except:\n",
    "                product_variance = driver.find_element(By.CSS_SELECTOR, '#__layout > div > div.container.detail > div.content > div > div:nth-child(2) > div > div.column_top > div.product_figure_wrap > div.detail_price > div.price > div.fluctuation.increase > p').text  \n",
    "                \n",
    "        except:\n",
    "            product_variance = ''\n",
    "\n",
    "        try:\n",
    "            # 가장 최근 거래일\n",
    "            product_recent_date = driver.find_element(By.CSS_SELECTOR,'#panel1 > div > table > tbody > tr:nth-child(1) > td:nth-child(3)').text\n",
    "        except:\n",
    "            product_recent_date = ''\n",
    "\n",
    "        try:\n",
    "            # 최근 거래 사이즈\n",
    "            product_recent_size = driver.find_element(By.CSS_SELECTOR, '#panel1 > div > table > tbody > tr:nth-child(1) > td:nth-child(1)').text\n",
    "        except:\n",
    "            product_recent_size = ''\n",
    "        \n",
    "\n",
    "        # 데이터표를 만들기 위해 저장한 값들을 리스트에 한 행씩 저장 \n",
    "        total_sneakers_data.append([product_brand_name, product_eng_name, product_kor_name, product_model_code, product_release_date, product_release_price, product_purchase_price,product_sale_price,product_recent_date, product_recent_price, product_recent_size, product_variance])\n",
    "\n",
    "    # 반복문이 끝나면 데이터프레임 생성\n",
    "    data = pd.DataFrame(data=total_sneakers_data, columns=['브랜드명', '상품명(eng)', '상품명(kor)', '모델번호', '발매일', '발매가','즉시 구매가', '즉시 판매가','최근 거래일', '최근 거래가', '최근 거래 사이즈', '가격 증감']) \n",
    "    print('###########################')\n",
    "    print('{}페이지까지 수집 완료'.format(i))\n",
    "    print('chrome driver를 종료합니다.')\n",
    "    print('###########################')\n",
    "    driver.quit()\n",
    "    \n",
    "    # 최종 data 리턴\n",
    "    return data "
   ]
  },
  {
   "cell_type": "code",
   "execution_count": 5,
   "id": "15be21a2",
   "metadata": {},
   "outputs": [
    {
     "name": "stderr",
     "output_type": "stream",
     "text": [
      "/var/folders/xd/jtgrpp0901q9xlm5h0lqrwkc0000gn/T/ipykernel_49954/3274149593.py:5: DeprecationWarning: executable_path has been deprecated, please pass in a Service object\n",
      "  driver = webdriver.Chrome(executable_path='/Users/yoon-wonseo/pythonproject/exe/chromedriver')\n"
     ]
    },
    {
     "name": "stdout",
     "output_type": "stream",
     "text": [
      "몇 페이지까지 웹스크래핑을 진행하시겠습니까? : 30\n",
      "##################\n",
      "크림 신발 정보 웹스크래핑을 시작합니다.\n",
      "###########################\n",
      "30페이지까지 수집 완료\n",
      "chrome driver를 종료합니다.\n",
      "###########################\n"
     ]
    }
   ],
   "source": [
    "# 크롤링 시작\n",
    "data = Kream_Sneakers_Crawling()"
   ]
  },
  {
   "cell_type": "code",
   "execution_count": 9,
   "id": "7d73d5ea",
   "metadata": {},
   "outputs": [],
   "source": [
    "# 현재 날짜 기준으로 저장\n",
    "today_date = datetime.today().strftime(\"%Y_%m_%d%\") \n",
    "\n",
    "# 데이터를 원하는 형식으로 저장(csv일 경우 to_csv)\n",
    "data.to_excel('/Users/yoon-wonseo/pythonproject/크롤링/Kream_dataset_{}.xlsx'.format(today_date))\n",
    "\n",
    "# 폴더 안을 확인해보자 "
   ]
  },
  {
   "cell_type": "code",
   "execution_count": null,
   "id": "4b145d89",
   "metadata": {},
   "outputs": [],
   "source": []
  }
 ],
 "metadata": {
  "kernelspec": {
   "display_name": "Python 3 (ipykernel)",
   "language": "python",
   "name": "python3"
  },
  "language_info": {
   "codemirror_mode": {
    "name": "ipython",
    "version": 3
   },
   "file_extension": ".py",
   "mimetype": "text/x-python",
   "name": "python",
   "nbconvert_exporter": "python",
   "pygments_lexer": "ipython3",
   "version": "3.10.2"
  }
 },
 "nbformat": 4,
 "nbformat_minor": 5
}
