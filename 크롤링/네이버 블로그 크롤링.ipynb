{
 "cells": [
  {
   "cell_type": "code",
   "execution_count": 7,
   "id": "eced5e56",
   "metadata": {},
   "outputs": [],
   "source": [
    "from selenium import webdriver\n",
    "import time\n",
    "from bs4 import BeautifulSoup\n",
    "\n",
    "import pandas as pd"
   ]
  },
  {
   "cell_type": "code",
   "execution_count": 8,
   "id": "1fcb6e35",
   "metadata": {},
   "outputs": [
    {
     "name": "stderr",
     "output_type": "stream",
     "text": [
      "/var/folders/7d/bm3zqtjx7xsb__yxj254h7kh0000gn/T/ipykernel_84052/3057292267.py:1: DeprecationWarning: executable_path has been deprecated, please pass in a Service object\n",
      "  driver = webdriver.Chrome('/Users/dongyokim/main/jupyter/chromedriver/chromedriver')\n"
     ]
    }
   ],
   "source": [
    "driver = webdriver.Chrome('/Users/dongyokim/main/jupyter/chromedriver/chromedriver')\n",
    "driver.implicitly_wait(2)\n",
    "\n",
    "\n"
   ]
  },
  {
   "cell_type": "code",
   "execution_count": 9,
   "id": "a14c8e72",
   "metadata": {},
   "outputs": [
    {
     "name": "stdout",
     "output_type": "stream",
     "text": [
      "어떤 키워드로 검색하시겠습니까? : 충주여행\n"
     ]
    },
    {
     "name": "stderr",
     "output_type": "stream",
     "text": [
      "/var/folders/7d/bm3zqtjx7xsb__yxj254h7kh0000gn/T/ipykernel_84052/3119690007.py:11: DeprecationWarning: find_element_by_* commands are deprecated. Please use find_element() instead\n",
      "  titles = driver.find_element_by_xpath('/html/body/ui-view/div/main/div/div/section/div[2]/div['+str(j)+']/div/div[1]/div[1]/a[1]')\n"
     ]
    },
    {
     "name": "stdout",
     "output_type": "stream",
     "text": [
      "url 수집 끝, 해당 url 데이터 크롤링\n"
     ]
    }
   ],
   "source": [
    "url_list = []\n",
    "content_list = \" \"\n",
    "text = input('어떤 키워드로 검색하시겠습니까? : ')\n",
    " \n",
    "for i in range(1, 10):  # 1~2페이지까지의 블로그 내용을 읽어옴\n",
    "    url = 'https://section.blog.naver.com/Search/Post.nhn?pageNo='+ str(i) + '&rangeType=ALL&orderBy=sim&keyword=' + text\n",
    "    driver.get(url)\n",
    "    time.sleep(0.5)\n",
    " \n",
    "    for j in range(1, 8): # 각 블로그 주소 저장\n",
    "        titles = driver.find_element_by_xpath('/html/body/ui-view/div/main/div/div/section/div[2]/div['+str(j)+']/div/div[1]/div[1]/a[1]')\n",
    "        title = titles.get_attribute('href')\n",
    "        url_list.append(title)\n",
    "print(\"url 수집 끝, 해당 url 데이터 크롤링\")"
   ]
  },
  {
   "cell_type": "code",
   "execution_count": 10,
   "id": "a006e860",
   "metadata": {},
   "outputs": [
    {
     "data": {
      "text/plain": [
       "63"
      ]
     },
     "execution_count": 10,
     "metadata": {},
     "output_type": "execute_result"
    }
   ],
   "source": [
    "len(url_list)"
   ]
  },
  {
   "cell_type": "code",
   "execution_count": 11,
   "id": "a6c7454c",
   "metadata": {},
   "outputs": [
    {
     "data": {
      "text/plain": [
       "['https://blog.naver.com/pur2mint/222801608732',\n",
       " 'https://blog.naver.com/0watergirl0/222877262155',\n",
       " 'https://blog.naver.com/sosoyoungs/222784210206',\n",
       " 'https://blog.naver.com/junhyuk_abba/222846533961',\n",
       " 'https://blog.naver.com/hyr67/222704988233',\n",
       " 'https://blog.naver.com/jjy333153/222795380898',\n",
       " 'https://blog.naver.com/boning/222886857785',\n",
       " 'https://blog.naver.com/indigo0609/222889435075',\n",
       " 'https://blog.naver.com/rafiuta/222886511862',\n",
       " 'https://blog.naver.com/1004puhahaha/222890263224',\n",
       " 'https://blog.naver.com/thefivepeas/222799689080',\n",
       " 'https://blog.naver.com/rimeiring/222885032869',\n",
       " 'https://blog.naver.com/mini2028/222822286724',\n",
       " 'https://blog.naver.com/elion68/222879267660',\n",
       " 'https://blog.naver.com/lcyyong5/222850728632',\n",
       " 'https://blog.naver.com/bizkitsteel/222766461435',\n",
       " 'https://blog.naver.com/parangusl_/222649428469',\n",
       " 'https://blog.naver.com/imboralee/222844208583',\n",
       " 'https://blog.naver.com/goodchungju/222585955519',\n",
       " 'https://blog.naver.com/gkgpfks3123/222885680182',\n",
       " 'https://blog.naver.com/fromrei8/222744072353',\n",
       " 'https://blog.naver.com/hihihim1/222862777401',\n",
       " 'https://blog.naver.com/spa7981/222851903407',\n",
       " 'https://blog.naver.com/qqtomato/222845610507',\n",
       " 'https://blog.naver.com/wonnyrang/222865785753',\n",
       " 'https://blog.naver.com/mini2028/222780763491',\n",
       " 'https://blog.naver.com/rhksgn/222847627050',\n",
       " 'https://blog.naver.com/i_loveny/222780058900',\n",
       " 'https://blog.naver.com/mimi030630/222736335020',\n",
       " 'https://blog.naver.com/jar1214/222774460346',\n",
       " 'https://blog.naver.com/tnwlsrns12/222883968824',\n",
       " 'https://blog.naver.com/haminhoo/222863549368',\n",
       " 'https://blog.naver.com/p911c4/222813538414',\n",
       " 'https://blog.naver.com/fromrei8/222738160280',\n",
       " 'https://blog.naver.com/b_612ro/222778991845',\n",
       " 'https://blog.naver.com/cbkb21/222780578838',\n",
       " 'https://blog.naver.com/lp_papa/222885829226',\n",
       " 'https://blog.naver.com/ejjo2002/222805693202',\n",
       " 'https://blog.naver.com/hnmh2332/222886118775',\n",
       " 'https://blog.naver.com/piil/222760361532',\n",
       " 'https://blog.naver.com/seungheefly/222724859544',\n",
       " 'https://blog.naver.com/korea_diary/222868320964',\n",
       " 'https://blog.naver.com/0watergirl0/222866034533',\n",
       " 'https://blog.naver.com/cjmusul/222857929671',\n",
       " 'https://blog.naver.com/wldus3685/222838624122',\n",
       " 'https://blog.naver.com/bl85219/222766670676',\n",
       " 'https://blog.naver.com/fromrei8/222846317999',\n",
       " 'https://blog.naver.com/oej7409/222707280030',\n",
       " 'https://blog.naver.com/bizkitsteel/222774283107',\n",
       " 'https://blog.naver.com/b_612ro/222789911800',\n",
       " 'https://blog.naver.com/hong273526/222759616183',\n",
       " 'https://blog.naver.com/mimi030630/222671197511',\n",
       " 'https://blog.naver.com/lollooll/222868024635',\n",
       " 'https://blog.naver.com/misun3031000/222859783270',\n",
       " 'https://blog.naver.com/huiya98/222841796714',\n",
       " 'https://blog.naver.com/inooyasha3/222890110018',\n",
       " 'https://blog.naver.com/cjmusul/222858938565',\n",
       " 'https://blog.naver.com/rimeiring/222886861955',\n",
       " 'https://blog.naver.com/imjey772/222856044967',\n",
       " 'https://blog.naver.com/ommmmma/222764309109',\n",
       " 'https://blog.naver.com/cjmusul/222812341933',\n",
       " 'https://blog.naver.com/bizkitsteel/222774124656',\n",
       " 'https://blog.naver.com/jwon0315/222764615743']"
      ]
     },
     "execution_count": 11,
     "metadata": {},
     "output_type": "execute_result"
    }
   ],
   "source": [
    "url_list"
   ]
  },
  {
   "cell_type": "code",
   "execution_count": 12,
   "id": "8c865ad6",
   "metadata": {},
   "outputs": [
    {
     "name": "stderr",
     "output_type": "stream",
     "text": [
      "/var/folders/7d/bm3zqtjx7xsb__yxj254h7kh0000gn/T/ipykernel_84052/1882359934.py:9: DeprecationWarning: find_elements_by_* commands are deprecated. Please use find_elements() instead\n",
      "  contents = driver.find_elements_by_css_selector(overlays)\n"
     ]
    }
   ],
   "source": [
    "Lists = []\n",
    "for url in url_list: # 수집한 url 만큼 반복\n",
    "    driver.get(url) # 해당 url로 이동\n",
    "    driver.switch_to.frame('mainFrame')\n",
    "    req = driver.page_source\n",
    "    soup=BeautifulSoup(req, 'html.parser')\n",
    "    \n",
    "    overlays = \".se-component.se-text.se-l-default\" # 내용 크롤링\n",
    "    contents = driver.find_elements_by_css_selector(overlays)\n",
    "    names = soup.title.text.replace(\": 네이버 블로그\", \"\").replace(\": 네이버블로그\", \"\")\n",
    "    try:\n",
    "        dates = soup.select_one('span.se_publishDate').text.replace('. ', '/')\n",
    "    except:\n",
    "        dates = soup.select_one('p.date').text.replace('. ', '/')\n",
    "    for content in contents:\n",
    "        content_list = content_list + content.text.replace('\\n', ' ') # content_list 라는 값에 + 하면서 점점 누적\n",
    "    Lists.append([dates, names, content_list])\n",
    "    content_list = ' '"
   ]
  },
  {
   "cell_type": "code",
   "execution_count": null,
   "id": "685995ae",
   "metadata": {},
   "outputs": [],
   "source": []
  },
  {
   "cell_type": "code",
   "execution_count": 1,
   "id": "94b6d299",
   "metadata": {},
   "outputs": [
    {
     "ename": "NameError",
     "evalue": "name 'Lists' is not defined",
     "output_type": "error",
     "traceback": [
      "\u001b[0;31m---------------------------------------------------------------------------\u001b[0m",
      "\u001b[0;31mNameError\u001b[0m                                 Traceback (most recent call last)",
      "Input \u001b[0;32mIn [1]\u001b[0m, in \u001b[0;36m<module>\u001b[0;34m\u001b[0m\n\u001b[1;32m      1\u001b[0m \u001b[38;5;28;01mimport\u001b[39;00m \u001b[38;5;21;01mpandas\u001b[39;00m \u001b[38;5;28;01mas\u001b[39;00m \u001b[38;5;21;01mpd\u001b[39;00m \n\u001b[0;32m----> 2\u001b[0m df \u001b[38;5;241m=\u001b[39m pd\u001b[38;5;241m.\u001b[39mDataFrame(data\u001b[38;5;241m=\u001b[39m \u001b[43mLists\u001b[49m, columns\u001b[38;5;241m=\u001b[39m[\u001b[38;5;124m'\u001b[39m\u001b[38;5;124m포스팅 날짜\u001b[39m\u001b[38;5;124m'\u001b[39m, \u001b[38;5;124m'\u001b[39m\u001b[38;5;124m글 제목\u001b[39m\u001b[38;5;124m'\u001b[39m, \u001b[38;5;124m'\u001b[39m\u001b[38;5;124m본문\u001b[39m\u001b[38;5;124m'\u001b[39m])\n",
      "\u001b[0;31mNameError\u001b[0m: name 'Lists' is not defined"
     ]
    }
   ],
   "source": [
    "import pandas as pd \n",
    "df = pd.DataFrame(data= Lists, columns=['포스팅 날짜', '글 제목', '본문'])"
   ]
  },
  {
   "cell_type": "code",
   "execution_count": null,
   "id": "85cb66da",
   "metadata": {},
   "outputs": [],
   "source": [
    "df"
   ]
  },
  {
   "cell_type": "code",
   "execution_count": 18,
   "id": "017bb8cc",
   "metadata": {},
   "outputs": [],
   "source": [
    "df.to_excel('네이버_블로그_크롤링.xlsx')"
   ]
  },
  {
   "cell_type": "code",
   "execution_count": 19,
   "id": "7a0c11ed",
   "metadata": {},
   "outputs": [],
   "source": [
    "driver.quit()"
   ]
  },
  {
   "cell_type": "code",
   "execution_count": 21,
   "id": "fcc68d45",
   "metadata": {},
   "outputs": [
    {
     "data": {
      "text/plain": [
       "포스팅 날짜    0\n",
       "글 제목      0\n",
       "본문        0\n",
       "dtype: int64"
      ]
     },
     "execution_count": 21,
     "metadata": {},
     "output_type": "execute_result"
    }
   ],
   "source": [
    "df.isnull().sum()"
   ]
  },
  {
   "cell_type": "code",
   "execution_count": null,
   "id": "79bb2d93",
   "metadata": {},
   "outputs": [],
   "source": []
  }
 ],
 "metadata": {
  "kernelspec": {
   "display_name": "Python 3 (ipykernel)",
   "language": "python",
   "name": "python3"
  },
  "language_info": {
   "codemirror_mode": {
    "name": "ipython",
    "version": 3
   },
   "file_extension": ".py",
   "mimetype": "text/x-python",
   "name": "python",
   "nbconvert_exporter": "python",
   "pygments_lexer": "ipython3",
   "version": "3.9.7"
  }
 },
 "nbformat": 4,
 "nbformat_minor": 5
}
